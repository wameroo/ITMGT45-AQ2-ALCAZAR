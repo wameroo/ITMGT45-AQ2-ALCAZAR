{
 "cells": [
  {
   "cell_type": "markdown",
   "metadata": {},
   "source": [
    "# 190161\n",
    "# Alcazar\n",
    "# 2 BS ITE"
   ]
  },
  {
   "cell_type": "code",
   "execution_count": 12,
   "metadata": {},
   "outputs": [
    {
     "name": "stdout",
     "output_type": "stream",
     "text": [
      "Enter the amount in USD: 23\n",
      "23.0 US Dollar(s) = 1150.0 Philippine Peso(s)\n"
     ]
    }
   ],
   "source": [
    "usd_input = float(input('Enter the amount in USD: '))\n",
    "usd_to_php = usd_input * 50\n",
    "\n",
    "print(usd_input,' US Dollar(s)' ' = ',usd_to_php,' Philippine Peso(s)',sep='')"
   ]
  },
  {
   "cell_type": "code",
   "execution_count": 22,
   "metadata": {},
   "outputs": [
    {
     "name": "stdout",
     "output_type": "stream",
     "text": [
      "Enter the first value: 32\n",
      "Enter the second value: 2\n",
      "34.0\n",
      "30.0\n",
      "64.0\n",
      "16.0\n",
      "0.0\n"
     ]
    }
   ],
   "source": [
    "#The first line should be the sum of a and b.\n",
    "\n",
    "#The second line should be b subtracted from a.\n",
    "\n",
    "#The third line should be the product of a and b.\n",
    "\n",
    "#The fourth line should be the quotient when a is divided by b, excluding the remainder.\n",
    "\n",
    "#The fifth line should be the remainder when a is divided by b.\n",
    "\n",
    "var_a = float(input('Enter the first value: '))\n",
    "var_b = float(input('Enter the second value: '))\n",
    "\n",
    "print(var_a+var_b)\n",
    "print(var_a-var_b)\n",
    "print(var_a*var_b)\n",
    "print(var_a//var_b)\n",
    "print(var_a%var_b)"
   ]
  },
  {
   "cell_type": "code",
   "execution_count": 27,
   "metadata": {},
   "outputs": [
    {
     "name": "stdout",
     "output_type": "stream",
     "text": [
      "Enter your weight in KG: 67\n",
      "Enter your height in CM: 178\n",
      "BMI: 21.146319909102385\n"
     ]
    }
   ],
   "source": [
    "#bmi = kg/m^2\n",
    "\n",
    "var_kg = float(input('Enter your weight in KG: '))\n",
    "var_cm = float(input('Enter your height in CM: '))\n",
    "var_m = var_cm/100\n",
    "compute_bmi = var_kg/(var_m*var_m)\n",
    "print('BMI: ',compute_bmi,sep='')"
   ]
  },
  {
   "cell_type": "code",
   "execution_count": null,
   "metadata": {},
   "outputs": [],
   "source": []
  }
 ],
 "metadata": {
  "kernelspec": {
   "display_name": "Python 3",
   "language": "python",
   "name": "python3"
  },
  "language_info": {
   "codemirror_mode": {
    "name": "ipython",
    "version": 3
   },
   "file_extension": ".py",
   "mimetype": "text/x-python",
   "name": "python",
   "nbconvert_exporter": "python",
   "pygments_lexer": "ipython3",
   "version": "3.8.3"
  }
 },
 "nbformat": 4,
 "nbformat_minor": 4
}
